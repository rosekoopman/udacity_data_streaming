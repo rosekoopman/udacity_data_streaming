{
 "cells": [
  {
   "cell_type": "markdown",
   "metadata": {
    "editable": true
   },
   "source": [
    "### KSQL JOINs\n",
    "\n",
    "KSQL also supports `JOIN` operations. In this demonstration you will see how to join the\n",
    "clickevents stream to the pages table.\n",
    "\n",
    "Before we move on, its worth remember that we __cannot__ `JOIN` a Table to a Stream, me way\n",
    "**only** join a Stream to a Table.\n",
    "\n",
    "### Prepare the environment\n",
    "\n",
    "Create `STREAM` called `clickevents`:\n",
    "\n",
    "```\n",
    "CREATE STREAM clickevents\n",
    "  (email VARCHAR,\n",
    "   timestamp VARCHAR,\n",
    "   uri VARCHAR,\n",
    "   number INTEGER)\n",
    "  WITH (KAFKA_TOPIC='com.udacity.streams.clickevents',\n",
    "        VALUE_FORMAT='JSON');\n",
    "```\n",
    "\n",
    "Create `TABLE` called `pages`:\n",
    "\n",
    "```\n",
    "CREATE TABLE pages\n",
    "  (uri VARCHAR,\n",
    "   description VARCHAR,\n",
    "   created VARCHAR)\n",
    "  WITH (KAFKA_TOPIC='com.udacity.streams.pages',\n",
    "        VALUE_FORMAT='JSON',\n",
    "        KEY='uri');\n",
    "```\n",
    "\n",
    "\n",
    "### `LEFT OUTER JOIN`\n",
    "\n",
    "In KSQL, as with most SQL derivatives, the default `JOIN` is the `LEFT OUTER JOIN`.\n",
    "\n",
    "Let's perform a `LEFT OUTER JOIN`, or simply, `JOIN` on clickevents to pages.\n",
    "\n",
    "```\n",
    "CREATE STREAM clickevent_pages AS\n",
    "  SELECT ce.uri, ce.email, ce.timestamp, ce.number, p.description, p.created\n",
    "  FROM clickevents ce\n",
    "  JOIN pages p on ce.uri = p.uri;\n",
    "```\n",
    "\n",
    "### `INNER JOIN`\n",
    "\n",
    "KSQL also supports `INNER JOIN` between Streams and Tables\n",
    "\n",
    "```\n",
    "CREATE STREAM clickevent_pages_inner AS\n",
    "  SELECT ce.uri, ce.email, ce.timestamp, ce.number, p.description, p.created\n",
    "  FROM clickevents ce\n",
    "  INNER JOIN pages p on ce.uri = p.uri;\n",
    "```\n",
    "\n",
    "### `FULL OUTER JOIN`\n",
    "\n",
    "Alright, lets wrap up by trying KSQLs final supported JOIN operation, the `FULL OUTER JOIN`\n",
    "\n",
    "```\n",
    "CREATE STREAM clickevent_pages_outer AS\n",
    "  SELECT ce.uri, ce.email, ce.timestamp, ce.number, p.description, p.created\n",
    "  FROM clickevents ce\n",
    "  FULL OUTER JOIN pages p on ce.uri = p.uri;\n",
    "```\n",
    "\n",
    "The query will fail to run:\n",
    "\n",
    "`> Full outer joins between streams and tables (stream: left, table: right) are not supported.`\n",
    "\n",
    "KSQL only supports `FULL OUTER JOIN` when joining a _Table to a Table_ or a _Stream to a Stream`.\n"
   ]
  },
  {
   "cell_type": "markdown",
   "metadata": {
    "editable": true
   },
   "source": []
  }
 ],
 "metadata": {
  "kernelspec": {
   "display_name": "Python 3",
   "language": "python",
   "name": "python3"
  },
  "language_info": {
   "codemirror_mode": {
    "name": "ipython",
    "version": 3
   },
   "file_extension": ".py",
   "mimetype": "text/x-python",
   "name": "python",
   "nbconvert_exporter": "python",
   "pygments_lexer": "ipython3",
   "version": "3.7.3"
  },
  "ulab_nb_type": "guided"
 },
 "nbformat": 4,
 "nbformat_minor": 4
}
