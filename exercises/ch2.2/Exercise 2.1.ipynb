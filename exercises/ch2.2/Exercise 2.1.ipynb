{
 "cells": [
  {
   "cell_type": "markdown",
   "metadata": {
    "editable": true
   },
   "source": [
    "# Explore how Kafka Works\n",
    "\n",
    "In this section you reviewed Kafka's architecture and how it stores data. In this exercise, you\n",
    "will spend some time seeing how Kafka works.\n",
    "\n",
    "## Topic Storage\n",
    "\n",
    "First, let's create a topic\n",
    "\n",
    "`kafka-topics --create --topic kafka-arch --partitions 1 --replication-factor 1 --zookeeper localhost:2181`\n",
    "\n",
    "### <a name=\"dir\"></a>Inspecting the Directory Structure\n",
    "\n",
    "Now that the topic is successfully created, let's see how Kafka stored it on disk.\n",
    "\n",
    "`ls -alh /var/lib/kafka/data | grep kafka-arch`\n",
    "\n",
    "What does the output look like?\n",
    "\n",
    "What kind of data is kept inside of the directory?\n",
    "\n",
    "`ls -alh /var/lib/kafka/data/kafka-arch*`\n",
    "\n",
    "If you try to open the file ending in `.log` is there anything in it?\n",
    "\n",
    "### Produce Data\n",
    "\n",
    "Now that we have this topic, let's produce some data into it.\n",
    "\n",
    "`kafka-console-producer --topic \"kafka-arch\" --broker-list localhost:9092`\n",
    "\n",
    "Produce 5-10 messages.\n",
    "\n",
    "Once you're done, hit Ctrl+C to exit.\n",
    "\n",
    "Repeat the steps from [Inspecting the Directory Structure](#dir) and see how the results have\n",
    "changed.\n",
    "\n",
    "\n",
    "## Topics and Partitions\n",
    "\n",
    "Now that you've seen what a topic with a single partition looks like, let's see what happens if we\n",
    "modify the number of partitions\n",
    "\n",
    "`kafka-topics --alter --topic kafka-arch --partitions 3 --zookeeper localhost:2181`\n",
    "\n",
    "Try repeating the steps from [the previous section](#dir). How many folders do you see now?\n",
    "\n",
    "Try modifying the number of partitions a few more times to see how Kafka modifies the data on disk.\n"
   ]
  },
  {
   "cell_type": "markdown",
   "metadata": {
    "editable": true
   },
   "source": []
  }
 ],
 "metadata": {
  "kernelspec": {
   "display_name": "Python 3",
   "language": "python",
   "name": "python3"
  },
  "language_info": {
   "codemirror_mode": {
    "name": "ipython",
    "version": 3
   },
   "file_extension": ".py",
   "mimetype": "text/x-python",
   "name": "python",
   "nbconvert_exporter": "python",
   "pygments_lexer": "ipython3",
   "version": "3.7.3"
  },
  "ulab_nb_type": "guided"
 },
 "nbformat": 4,
 "nbformat_minor": 4
}
