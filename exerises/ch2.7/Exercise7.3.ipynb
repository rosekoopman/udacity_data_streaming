{
 "cells": [
  {
   "cell_type": "markdown",
   "metadata": {
    "editable": true
   },
   "source": [
    "### Querying in KSQL\n",
    "\n",
    "Ad-hoc querying in KSQL is one of the tools greatest strengths. Lets have a look at some sample\n",
    "queries. First we need to create a stream to work with. We also set auto.offset.reset to `earliest` \n",
    "to access all the data in the topic.\n",
    "\n",
    "`SET 'auto.offset.reset' = 'earliest';`\n",
    "\n",
    "```\n",
    "CREATE STREAM clickevents\n",
    "  (email VARCHAR,\n",
    "   timestamp VARCHAR,\n",
    "   uri VARCHAR,\n",
    "   number INTEGER)\n",
    "  WITH (KAFKA_TOPIC='com.udacity.streams.clickevents',\n",
    "        VALUE_FORMAT='JSON');\n",
    "```\n",
    "\n",
    "### Basic filtering\n",
    "\n",
    "We've already seen how to filter data in the table creation process, but lets revisit it one more\n",
    "time\n",
    "\n",
    "```\n",
    "SELECT uri, number\n",
    "  FROM clickevents\n",
    "  WHERE number > 100\n",
    "    AND uri LIKE 'http://www.k%';\n",
    "```\n",
    "\n",
    "### Scalar Functions\n",
    "\n",
    "KSQL Provides a number of [Scalar functions for us to make use of](https://docs.ksqldb.io/en/latest/developer-guide/ksqldb-reference/scalar-functions/).\n",
    "\n",
    "Lets write a function that takes advantage of some of these features:\n",
    "\n",
    "```\n",
    "SELECT UCASE(SUBSTRING(uri, 12))\n",
    "  FROM clickevents\n",
    "  WHERE number > 100\n",
    "    AND uri LIKE 'http://www.k%';\n",
    "```\n",
    "\n",
    "This query will strip the `http://www.` from the start of the URI and capitalize it.\n",
    "\n",
    "The `SUBSTRING` function takes a string and which character to start at (and optionally end at)\n",
    "The `UCASE` function takes a string and capitalizes it.\n",
    "\n",
    "Example with `CONCAT`. According to [this documentation](https://docs.ksqldb.io/en/latest/developer-guide/ksqldb-reference/scalar-functions/#concat) it \n",
    "should be possible to provide more than two arguments but somehow this does not work, hence two CONCATs are used.\n",
    "\n",
    "```\n",
    "SELECT CONCAT(UCASE(SUBSTRING(uri, 12)), CONCAT(' , ' , CAST(number AS VARCHAR)))\n",
    "    FROM clickevents\n",
    "    WHERE number > 100\n",
    "        AND uri LIKE 'http://www.k%';\n",
    "```\n",
    "\n",
    "### Terminating Queries\n",
    "\n",
    "**`SELECT` queries are not persistent!**\n",
    "\n",
    "Notice that as soon as you hit `CTRL+C` your query ends. When you run the query again, KSQL has to\n",
    "recreate the query. This means that if you want the results of this query to be persistent, you\n",
    "need to create a Table or a Stream.\n"
   ]
  },
  {
   "cell_type": "markdown",
   "metadata": {
    "editable": true
   },
   "source": []
  }
 ],
 "metadata": {
  "kernelspec": {
   "display_name": "Python 3",
   "language": "python",
   "name": "python3"
  },
  "language_info": {
   "codemirror_mode": {
    "name": "ipython",
    "version": 3
   },
   "file_extension": ".py",
   "mimetype": "text/x-python",
   "name": "python",
   "nbconvert_exporter": "python",
   "pygments_lexer": "ipython3",
   "version": "3.7.3"
  },
  "ulab_nb_type": "guided"
 },
 "nbformat": 4,
 "nbformat_minor": 4
}
