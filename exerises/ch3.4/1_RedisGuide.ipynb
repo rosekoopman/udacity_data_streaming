{
 "cells": [
  {
   "cell_type": "markdown",
   "source": [
    "# Manually Save and Read With Redis and Kafka\n",
    "\n",
    "- Click the button to start Kafka: <button id=\"ulab-button-341c8451\" class=\"ulab-btn--primary\"></button>\n",
    "- Run the Redis CLI:\n",
    "     - From the terminal type: ```/data/redis/redis-stable/src/redis-cli -a notreally```\n",
    "       \n",
    "       Note: flag -a is used to provide a password. Here the password is 'notreally'\n",
    "     - From the terminal type: ```keys **```\n",
    "     - You will see the list of all the Redis tables\n",
    "     - From another terminal type ```/data/kafka/bin/kafka-console-consumer --bootstrap-server localhost:9092 --topic redis-server```\n",
    "     - From the first terminal type: ```zadd testkey 0 testvalue```\n",
    "     \n",
    "       Note: add a value to a sorted set at given index. The name of the sorted set is testkey, the value is testvalue and the index is 0.\n",
    "    - From the terminal type: ```keys **``` again to see the newly created sorted set.\n",
    "    - to inspect the sorted set type ```zrange testkey 0 -1```\n",
    "     - From the first terminal type ```set mykey myvalue```\n",
    "       \n",
    "       Note: add a key/value pair\n",
    "     - Open the second terminal\n",
    "     - A JSON message will appear from the redis-server topic\n",
    "     - The key contains the base64 encoded name of the Redis table\n",
    "     - zSetEntries and zsetEntries contain the changes made to the Redis sorted set. \n",
    "- To decode the name of the Redis table, open a third terminal, and type: ```echo \"[encoded table]\" | base64 -d```, for example ```echo \"dGVzdGtleQ==\" | base64 -d```\n",
    "- To decode the changes made, from the zSetEntries table, copy the \"element\" value, then from the third terminal type: ```echo \"[encoded value]\" | base64 -d```, for example ```echo \"dGVzdGtleQ==\" | base64 -d```\n",
    "\n",
    "    "
   ],
   "metadata": {
    "editable": true,
    "ulab": {
     "buttons": {
      "ulab-button-341c8451": {
       "bashCommand": "/home/workspace/startup/startup.sh",
       "filesToOpen": [],
       "isPreviewButton": false,
       "runInBackground": false,
       "style": "primary",
       "text": "Start Kafka",
       "toggleOffText": "HIDE SOLUTION",
       "toggleOnText": "SHOW SOLUTION"
      }
     }
    }
   }
  },
  {
   "cell_type": "code",
   "execution_count": null,
   "source": [],
   "outputs": [],
   "metadata": {
    "editable": true
   }
  }
 ],
 "metadata": {
  "kernelspec": {
   "display_name": "Python 3",
   "language": "python",
   "name": "python3"
  },
  "language_info": {
   "codemirror_mode": {
    "name": "ipython",
    "version": 3
   },
   "file_extension": ".py",
   "mimetype": "text/x-python",
   "name": "python",
   "nbconvert_exporter": "python",
   "pygments_lexer": "ipython3",
   "version": "3.7.3"
  }
 },
 "nbformat": 4,
 "nbformat_minor": 4
}